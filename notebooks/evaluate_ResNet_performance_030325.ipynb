{
  "nbformat": 4,
  "nbformat_minor": 0,
  "metadata": {
    "colab": {
      "provenance": []
    },
    "kernelspec": {
      "name": "python3",
      "display_name": "Python 3"
    },
    "language_info": {
      "name": "python"
    }
  },
  "cells": [
    {
      "cell_type": "code",
      "source": [
        "import torch\n",
        "import torch.nn.functional as F\n",
        "from sklearn.metrics import accuracy_score, precision_recall_fscore_support, roc_auc_score, confusion_matrix\n",
        "import torch.nn as nn\n",
        "from torchvision import transforms\n",
        "from torchvision.datasets import ImageFolder\n",
        "from torch.utils.data.dataloader import DataLoader\n",
        "import matplotlib.pyplot as plt\n",
        "import numpy as np"
      ],
      "metadata": {
        "id": "CNf81HHV65jJ"
      },
      "execution_count": 1,
      "outputs": []
    },
    {
      "cell_type": "code",
      "source": [
        "# model class\n",
        "\n",
        "# Define the bottleneck block for deeper ResNet\n",
        "class Bottleneck(nn.Module):\n",
        "    expansion = 4  # Expansion factor for the bottleneck\n",
        "\n",
        "    def __init__(self, in_channels, out_channels, stride=1, downsample=None):\n",
        "        super(Bottleneck, self).__init__()\n",
        "        # First 1x1 convolution reduces dimensionality\n",
        "        self.conv1 = nn.Conv2d(in_channels, out_channels, kernel_size=1, bias=False)\n",
        "        self.bn1 = nn.BatchNorm2d(out_channels)\n",
        "        # 3x3 convolution applies spatial processing\n",
        "        self.conv2 = nn.Conv2d(out_channels, out_channels, kernel_size=3, stride=stride, padding=1, bias=False)\n",
        "        self.bn2 = nn.BatchNorm2d(out_channels)\n",
        "        # Final 1x1 convolution expands dimensionality back\n",
        "        self.conv3 = nn.Conv2d(out_channels, out_channels * self.expansion, kernel_size=1, bias=False)\n",
        "        self.bn3 = nn.BatchNorm2d(out_channels * self.expansion)\n",
        "        self.downsample = downsample\n",
        "        self.relu = nn.ReLU(inplace=True)\n",
        "\n",
        "    def forward(self, x):\n",
        "        identity = x  # Preserve input for residual connection\n",
        "        if self.downsample is not None:\n",
        "            identity = self.downsample(x)\n",
        "        out = self.conv1(x)\n",
        "        out = self.bn1(out)\n",
        "        out = self.relu(out)\n",
        "        out = self.conv2(out)\n",
        "        out = self.bn2(out)\n",
        "        out = self.relu(out)\n",
        "        out = self.conv3(out)\n",
        "        out = self.bn3(out)\n",
        "        out += identity  # Add residual connection\n",
        "        out = self.relu(out)\n",
        "        return out\n",
        "\n",
        "# Define the ResNet model\n",
        "class ResNet(nn.Module):\n",
        "    def __init__(self, block, layers, num_classes=10):\n",
        "        super(ResNet, self).__init__()\n",
        "        self.in_channels = 64\n",
        "        # Initial convolutional layer\n",
        "        self.conv1 = nn.Conv2d(3, 64, kernel_size=7, stride=2, padding=3, bias=False)\n",
        "        self.bn1 = nn.BatchNorm2d(64)\n",
        "        self.relu = nn.ReLU(inplace=True)\n",
        "        self.maxpool = nn.MaxPool2d(kernel_size=3, stride=2, padding=1)\n",
        "        # ResNet layers\n",
        "        self.layer1 = self._make_layer(block, 64, layers[0])\n",
        "        self.layer2 = self._make_layer(block, 128, layers[1], stride=2)\n",
        "        self.layer3 = self._make_layer(block, 256, layers[2], stride=2)\n",
        "        self.layer4 = self._make_layer(block, 512, layers[3], stride=2)\n",
        "        self.avgpool = nn.AdaptiveAvgPool2d((1, 1))\n",
        "        self.fc = nn.Linear(512 * block.expansion, num_classes)\n",
        "\n",
        "    def _make_layer(self, block, out_channels, blocks, stride=1):\n",
        "        downsample = None\n",
        "        if stride != 1 or self.in_channels != out_channels * block.expansion:\n",
        "            downsample = nn.Sequential(\n",
        "                nn.Conv2d(self.in_channels, out_channels * block.expansion, kernel_size=1, stride=stride, bias=False),\n",
        "                nn.BatchNorm2d(out_channels * block.expansion),\n",
        "            )\n",
        "        layers = []\n",
        "        layers.append(block(self.in_channels, out_channels, stride, downsample))\n",
        "        self.in_channels = out_channels * block.expansion\n",
        "        for _ in range(1, blocks):\n",
        "            layers.append(block(self.in_channels, out_channels))\n",
        "        return nn.Sequential(*layers)\n",
        "\n",
        "    def forward(self, x):\n",
        "        x = self.conv1(x)\n",
        "        x = self.bn1(x)\n",
        "        x = self.relu(x)\n",
        "        x = self.maxpool(x)\n",
        "        x = self.layer1(x)\n",
        "        x = self.layer2(x)\n",
        "        x = self.layer3(x)\n",
        "        x = self.layer4(x)\n",
        "        x = self.avgpool(x)\n",
        "        x = torch.flatten(x, 1)\n",
        "        x = self.fc(x)\n",
        "        return x\n",
        "\n",
        "\n",
        "def ResNet50():\n",
        "    return ResNet(Bottleneck, [3, 4, 6, 3])\n"
      ],
      "metadata": {
        "id": "PeMBbsKL8JRY"
      },
      "execution_count": 2,
      "outputs": []
    },
    {
      "cell_type": "code",
      "execution_count": 30,
      "metadata": {
        "id": "grVp9R6R6zXk"
      },
      "outputs": [],
      "source": [
        "def load_model(model_path, device):\n",
        "    model = ResNet50()  # Initialize model architecture\n",
        "    model.load_state_dict(torch.load(model_path, map_location=device))\n",
        "    model.to(device)\n",
        "    model.eval()\n",
        "    return model\n",
        "\n",
        "# for multi-class classification\n",
        "\n",
        "def plot_confusion_matrix(y_true, y_pred, num_classes):\n",
        "    cm = confusion_matrix(y_true, y_pred)\n",
        "    plt.figure(figsize=(8, 6))\n",
        "    plt.imshow(cm, interpolation='nearest', cmap=plt.cm.magma)\n",
        "    plt.title(\"Confusion Matrix\")\n",
        "    plt.colorbar()\n",
        "    plt.xlabel(\"Predicted Label\")\n",
        "    plt.ylabel(\"True Label\")\n",
        "    plt.xticks(np.arange(num_classes))\n",
        "    plt.yticks(np.arange(num_classes))\n",
        "    plt.show()\n",
        "\n",
        "def evaluate_resnet(model, dataloader, device):\n",
        "    all_preds = []\n",
        "    all_targets = []\n",
        "\n",
        "    with torch.no_grad():\n",
        "        for inputs, targets in dataloader:\n",
        "            inputs, targets = inputs.to(device), targets.to(device)\n",
        "            outputs = model(inputs)\n",
        "            preds = torch.softmax(outputs, dim=1)  # Convert logits to probabilities\n",
        "\n",
        "            all_preds.append(preds.cpu())\n",
        "            all_targets.append(targets.cpu())\n",
        "\n",
        "    all_preds = torch.cat(all_preds).numpy()\n",
        "    all_targets = torch.cat(all_targets).numpy()\n",
        "\n",
        "    # Convert probabilities to class predictions\n",
        "    class_preds = np.argmax(all_preds, axis=1)\n",
        "    class_targets = all_targets\n",
        "\n",
        "    # Compute metrics\n",
        "    accuracy = accuracy_score(class_targets, class_preds)\n",
        "    precision, recall, f1, _ = precision_recall_fscore_support(class_targets, class_preds, average='macro')\n",
        "\n",
        "    # Plot confusion matrix\n",
        "    plot_confusion_matrix(class_targets, class_preds, num_classes=all_preds.shape[1])\n",
        "\n",
        "    return {\n",
        "        \"Accuracy\": accuracy,\n",
        "        \"Precision\": precision,\n",
        "        \"Recall\": recall,\n",
        "        \"F1-score\": f1\n",
        "    }\n",
        "\n",
        "\n",
        "\n",
        "# for multi-label classification\n",
        "# def evaluate_resnet(model, dataloader, device):\n",
        "#     all_preds = []\n",
        "#     all_targets = []\n",
        "\n",
        "#     with torch.no_grad():\n",
        "#         for inputs, targets in dataloader:\n",
        "#             inputs, targets = inputs.to(device), targets.to(device)\n",
        "#             outputs = model(inputs)\n",
        "#             preds = torch.sigmoid(outputs)  # Convert logits to probabilities\n",
        "\n",
        "#             all_preds.append(preds.cpu())\n",
        "#             all_targets.append(targets.cpu())\n",
        "\n",
        "#     all_preds = torch.cat(all_preds).numpy()\n",
        "#     all_targets = torch.cat(all_targets).numpy()\n",
        "#     print(all_targets)\n",
        "#     # Binarize predictions (using threshold 0.5)\n",
        "#     bin_preds = (all_preds > 0.5).astype(int)\n",
        "\n",
        "#     # Compute metrics\n",
        "#     accuracy = accuracy_score(all_targets, bin_preds)\n",
        "#     precision, recall, f1, _ = precision_recall_fscore_support(all_targets, bin_preds, average='micro')\n",
        "#     roc_auc = roc_auc_score(all_targets, all_preds, average='macro')\n",
        "\n",
        "#     # Plot ROC curves\n",
        "#     plot_roc_curves(all_targets, all_preds, all_targets.shape[1])\n",
        "\n",
        "#     return {\n",
        "#         \"Accuracy\": accuracy,\n",
        "#         \"Precision\": precision,\n",
        "#         \"Recall\": recall,\n",
        "#         \"F1-score\": f1,\n",
        "#         \"AUROC\": roc_auc\n",
        "#     }\n",
        "\n",
        "# def plot_roc_curves(y_true, y_scores, num_classes):\n",
        "#     plt.figure(figsize=(10, 8))\n",
        "#     all_fpr = []\n",
        "#     all_tpr = []\n",
        "#     all_roc_auc = []\n",
        "\n",
        "#     for i in range(num_classes):\n",
        "#         fpr, tpr, _ = roc_curve(y_true[:, i], y_scores[:, i])\n",
        "#         roc_auc = auc(fpr, tpr)\n",
        "#         all_fpr.append(fpr)\n",
        "#         all_tpr.append(tpr)\n",
        "#         all_roc_auc.append(roc_auc)\n",
        "#         plt.plot(fpr, tpr, label=f'Class {i} (AUC = {roc_auc:.2f})')\n",
        "\n",
        "#     # Plot macro-average ROC curve\n",
        "#     mean_fpr = np.linspace(0, 1, 100)\n",
        "#     mean_tpr = np.mean([np.interp(mean_fpr, fpr, tpr) for fpr, tpr in zip(all_fpr, all_tpr)], axis=0)\n",
        "#     mean_auc = auc(mean_fpr, mean_tpr)\n",
        "#     plt.plot(mean_fpr, mean_tpr, color='black', linestyle='--', label=f'Macro-average (AUC = {mean_auc:.2f})')\n",
        "\n",
        "#     plt.plot([0, 1], [0, 1], 'k--')  # Diagonal line\n",
        "#     plt.xlabel('False Positive Rate')\n",
        "#     plt.ylabel('True Positive Rate')\n",
        "#     plt.title('ROC Curves')\n",
        "#     plt.legend(loc='lower right')\n",
        "#     plt.show()"
      ]
    },
    {
      "cell_type": "code",
      "source": [
        "from google.colab import drive\n",
        "drive.mount('/content/drive')"
      ],
      "metadata": {
        "colab": {
          "base_uri": "https://localhost:8080/"
        },
        "id": "ojgF4KWK7JGz",
        "outputId": "576e7dd3-4b53-4d4c-b785-d64d4ad8a40b"
      },
      "execution_count": 4,
      "outputs": [
        {
          "output_type": "stream",
          "name": "stdout",
          "text": [
            "Drive already mounted at /content/drive; to attempt to forcibly remount, call drive.mount(\"/content/drive\", force_remount=True).\n"
          ]
        }
      ]
    },
    {
      "cell_type": "code",
      "source": [
        "# initializing the model and loading the weights\n",
        "model_path = \"/content/drive/MyDrive/sat_classifyer_pytorch/250225_ResNet/best_250225.pth\"\n",
        "device = torch.device(\"cuda\" if torch.cuda.is_available() else \"cpu\")\n",
        "print(device)\n",
        "model = load_model(model_path, device)\n"
      ],
      "metadata": {
        "colab": {
          "base_uri": "https://localhost:8080/"
        },
        "id": "_qlKhg-n6--z",
        "outputId": "9dd82c90-a302-4e42-b781-72312f808784"
      },
      "execution_count": 5,
      "outputs": [
        {
          "output_type": "stream",
          "name": "stdout",
          "text": [
            "cpu\n"
          ]
        },
        {
          "output_type": "stream",
          "name": "stderr",
          "text": [
            "<ipython-input-3-ac6c69f66817>:3: FutureWarning: You are using `torch.load` with `weights_only=False` (the current default value), which uses the default pickle module implicitly. It is possible to construct malicious pickle data which will execute arbitrary code during unpickling (See https://github.com/pytorch/pytorch/blob/main/SECURITY.md#untrusted-models for more details). In a future release, the default value for `weights_only` will be flipped to `True`. This limits the functions that could be executed during unpickling. Arbitrary objects will no longer be allowed to be loaded via this mode unless they are explicitly allowlisted by the user via `torch.serialization.add_safe_globals`. We recommend you start setting `weights_only=True` for any use case where you don't have full control of the loaded file. Please open an issue on GitHub for any issues related to this experimental feature.\n",
            "  model.load_state_dict(torch.load(model_path, map_location=device))\n"
          ]
        }
      ]
    },
    {
      "cell_type": "code",
      "source": [
        "#loading the test data like we loaded training and validation data\n",
        "test_data_dir = \"/content/drive/MyDrive/sat_classifyer_pytorch/data/test\"\n",
        "test_dataset = ImageFolder(test_data_dir,transforms.Compose([\n",
        "    transforms.Resize((224,224)),transforms.ToTensor(),transforms.Normalize(mean=[0.485, 0.456, 0.406], std=[0.229, 0.224, 0.225])\n",
        "]))\n",
        "\n",
        "#load the test data into batches\n",
        "batch_size = 32\n",
        "test_dl = DataLoader(test_dataset, batch_size*2, num_workers = 2, pin_memory = True)\n"
      ],
      "metadata": {
        "id": "ytXZ26s67zXm"
      },
      "execution_count": 6,
      "outputs": []
    },
    {
      "cell_type": "code",
      "source": [
        "results = evaluate_resnet(model, test_dl, device)"
      ],
      "metadata": {
        "colab": {
          "base_uri": "https://localhost:8080/",
          "height": 564
        },
        "id": "Cw8sd8I89K-T",
        "outputId": "10d15c88-9559-4806-f773-c22c48875750"
      },
      "execution_count": 31,
      "outputs": [
        {
          "output_type": "display_data",
          "data": {
            "text/plain": [
              "<Figure size 800x600 with 2 Axes>"
            ],
            "image/png": "[encoded data removed]"
          },
          "metadata": {}
        }
      ]
    },
    {
      "cell_type": "code",
      "source": [
        "all_preds, all_targets = results"
      ],
      "metadata": {
        "id": "HOgXzdfm90Fw"
      },
      "execution_count": 10,
      "outputs": []
    },
    {
      "cell_type": "code",
      "source": [
        "class_preds = np.argmax(all_preds, axis=1)"
      ],
      "metadata": {
        "id": "qwE124xn-unG"
      },
      "execution_count": 11,
      "outputs": []
    },
    {
      "cell_type": "code",
      "source": [
        "np.unique(class_preds == all_targets)"
      ],
      "metadata": {
        "colab": {
          "base_uri": "https://localhost:8080/"
        },
        "id": "bf0kgr-GMzX_",
        "outputId": "c87327e2-1b81-44dc-8ab3-f6ff0104ac31"
      },
      "execution_count": 17,
      "outputs": [
        {
          "output_type": "execute_result",
          "data": {
            "text/plain": [
              "array([False,  True])"
            ]
          },
          "metadata": {},
          "execution_count": 17
        }
      ]
    },
    {
      "cell_type": "code",
      "source": [
        "all_targets"
      ],
      "metadata": {
        "colab": {
          "base_uri": "https://localhost:8080/"
        },
        "id": "iaLBOW41IZyW",
        "outputId": "f2da67ca-ac32-4c6a-ff5e-f4e247dc412d"
      },
      "execution_count": 14,
      "outputs": [
        {
          "output_type": "execute_result",
          "data": {
            "text/plain": [
              "array([0, 0, 0, ..., 9, 9, 9])"
            ]
          },
          "metadata": {},
          "execution_count": 14
        }
      ]
    },
    {
      "cell_type": "code",
      "source": [
        "accuracy = accuracy_score(all_targets, class_preds)\n",
        "accuracy"
      ],
      "metadata": {
        "colab": {
          "base_uri": "https://localhost:8080/"
        },
        "id": "HiXJk2yFIcqi",
        "outputId": "b3af92ad-2817-4856-c238-43ce392614fd"
      },
      "execution_count": 18,
      "outputs": [
        {
          "output_type": "execute_result",
          "data": {
            "text/plain": [
              "0.9541165587419056"
            ]
          },
          "metadata": {},
          "execution_count": 18
        }
      ]
    },
    {
      "cell_type": "code",
      "source": [
        "precision, recall, f1, _ = precision_recall_fscore_support(all_targets, class_preds, average='macro')\n"
      ],
      "metadata": {
        "id": "11BhCPhfI1EX"
      },
      "execution_count": 19,
      "outputs": []
    },
    {
      "cell_type": "code",
      "source": [
        "print(precision, recall, f1)"
      ],
      "metadata": {
        "colab": {
          "base_uri": "https://localhost:8080/"
        },
        "id": "ZbiMRMFCI9uc",
        "outputId": "fdcbce70-8ad5-4ee3-8dcf-eb3d0b430dc9"
      },
      "execution_count": 20,
      "outputs": [
        {
          "output_type": "stream",
          "name": "stdout",
          "text": [
            "0.9534938803796059 0.9528358024691359 0.9528638652896472\n"
          ]
        }
      ]
    },
    {
      "cell_type": "code",
      "source": [
        "plot_confusion_matrix(all_targets, class_preds, num_classes=all_preds.shape[1])\n",
        ""
      ],
      "metadata": {
        "colab": {
          "base_uri": "https://localhost:8080/",
          "height": 564
        },
        "id": "FvJIuu6kJBIZ",
        "outputId": "c3eca14e-11ff-45aa-c539-eb1f1e3fcaf7"
      },
      "execution_count": 29,
      "outputs": [
        {
          "output_type": "display_data",
          "data": {
            "text/plain": [
              "<Figure size 800x600 with 2 Axes>"
            ],
            "image/png": "[encoded data removed]"
          },
          "metadata": {}
        }
      ]
    },
    {
      "cell_type": "code",
      "source": [],
      "metadata": {
        "id": "mVTJoCPEJJo4"
      },
      "execution_count": null,
      "outputs": []
    }
  ]
}